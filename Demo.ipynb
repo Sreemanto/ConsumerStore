{
 "cells": [
  {
   "cell_type": "code",
   "execution_count": 1,
   "metadata": {},
   "outputs": [],
   "source": [
    "from ConsumerStore import ConsumerStore"
   ]
  },
  {
   "cell_type": "code",
   "execution_count": 2,
   "metadata": {},
   "outputs": [
    {
     "name": "stdout",
     "output_type": "stream",
     "text": [
      "New Customer\n"
     ]
    }
   ],
   "source": [
    "c1 = ConsumerStore()"
   ]
  },
  {
   "cell_type": "code",
   "execution_count": 3,
   "metadata": {
    "collapsed": true
   },
   "outputs": [
    {
     "name": "stdout",
     "output_type": "stream",
     "text": [
      "nsh has been added in the cart\n",
      "stv has been added in the cart\n",
      "stv has been added in the cart\n",
      "nsh has been added in the cart\n",
      "stv has been added in the cart\n",
      "stv has been added in the cart\n",
      "stv has been added in the cart\n"
     ]
    }
   ],
   "source": [
    "c1.scan('nsh')\n",
    "c1.scan('stv')\n",
    "c1.scan('stv')\n",
    "c1.scan('nsh')\n",
    "c1.scan('stv')\n",
    "c1.scan('stv')\n",
    "c1.scan('stv')"
   ]
  },
  {
   "cell_type": "code",
   "execution_count": 4,
   "metadata": {
    "collapsed": true
   },
   "outputs": [
    {
     "name": "stdout",
     "output_type": "stream",
     "text": [
      "5   Sony_TV  MRP  549.99  :  2749.95\n",
      "0   Central_AC  MRP  1399.99  :  0.0\n",
      "2   Nike_Shoe  MRP  109.5  :  219.0\n",
      "0   Charger  MRP  30.0  :  0.0\n",
      "\n",
      " Total Amount with out discount rules :  2968.95\n"
     ]
    }
   ],
   "source": [
    "c1.item_scanned()"
   ]
  },
  {
   "cell_type": "code",
   "execution_count": 5,
   "metadata": {
    "collapsed": true
   },
   "outputs": [
    {
     "name": "stdout",
     "output_type": "stream",
     "text": [
      "5   Sony_TV  billed @  499.99  :  2499.95\n",
      "0   Central_AC  billed @  1399.99  :  0.0\n",
      "2   Nike_Shoe  billed @  109.5  :  219.0\n",
      "0   Charger  billed @  30.0  :  0.0\n",
      "\n",
      " Net Amount to be paid :  2718.95\n"
     ]
    }
   ],
   "source": [
    "c1.checkout()"
   ]
  },
  {
   "cell_type": "code",
   "execution_count": 6,
   "metadata": {},
   "outputs": [
    {
     "name": "stdout",
     "output_type": "stream",
     "text": [
      "New Customer\n"
     ]
    }
   ],
   "source": [
    "c2 = ConsumerStore()"
   ]
  },
  {
   "cell_type": "code",
   "execution_count": 7,
   "metadata": {
    "collapsed": true
   },
   "outputs": [
    {
     "name": "stdout",
     "output_type": "stream",
     "text": [
      "nsh has been added in the cart\n",
      "nsh has been added in the cart\n",
      "nsh has been added in the cart\n",
      "mch has been added in the cart\n"
     ]
    }
   ],
   "source": [
    "c2.scan('nsh')\n",
    "c2.scan('nsh')\n",
    "c2.scan('nsh')\n",
    "c2.scan('mch')"
   ]
  },
  {
   "cell_type": "code",
   "execution_count": 8,
   "metadata": {
    "collapsed": true
   },
   "outputs": [
    {
     "name": "stdout",
     "output_type": "stream",
     "text": [
      "0   Sony_TV  MRP  549.99  :  0.0\n",
      "0   Central_AC  MRP  1399.99  :  0.0\n",
      "3   Nike_Shoe  MRP  109.5  :  328.5\n",
      "1   Charger  MRP  30.0  :  30.0\n",
      "\n",
      " Total Amount with out discount rules :  358.5\n"
     ]
    }
   ],
   "source": [
    "c2.item_scanned()"
   ]
  },
  {
   "cell_type": "code",
   "execution_count": 9,
   "metadata": {
    "collapsed": true
   },
   "outputs": [
    {
     "name": "stdout",
     "output_type": "stream",
     "text": [
      "0   Sony_TV  billed @  549.99  :  0.0\n",
      "0   Central_AC  billed @  1399.99  :  0.0\n",
      "2   Nike_Shoe  billed @  109.5  :  219.0\n",
      "1   Charger  billed @  30.0  :  30.0\n",
      "\n",
      " Net Amount to be paid :  249.0\n",
      "\n",
      " 1 Nike Shoe have been offered for free \n"
     ]
    }
   ],
   "source": [
    "c2.checkout()"
   ]
  }
 ],
 "metadata": {
  "kernelspec": {
   "display_name": "Python 3",
   "language": "python",
   "name": "python3"
  },
  "language_info": {
   "codemirror_mode": {
    "name": "ipython",
    "version": 3
   },
   "file_extension": ".py",
   "mimetype": "text/x-python",
   "name": "python",
   "nbconvert_exporter": "python",
   "pygments_lexer": "ipython3",
   "version": "3.7.7"
  }
 },
 "nbformat": 4,
 "nbformat_minor": 4
}
